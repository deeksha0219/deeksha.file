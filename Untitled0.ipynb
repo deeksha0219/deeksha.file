{
  "nbformat": 4,
  "nbformat_minor": 0,
  "metadata": {
    "colab": {
      "provenance": [],
      "authorship_tag": "ABX9TyMJqHgDy6X78oAvy4Wl+0rA",
      "include_colab_link": true
    },
    "kernelspec": {
      "name": "python3",
      "display_name": "Python 3"
    },
    "language_info": {
      "name": "python"
    }
  },
  "cells": [
    {
      "cell_type": "markdown",
      "metadata": {
        "id": "view-in-github",
        "colab_type": "text"
      },
      "source": [
        "<a href=\"https://colab.research.google.com/github/deeksha0219/deeksha.file/blob/main/Untitled0.ipynb\" target=\"_parent\"><img src=\"https://colab.research.google.com/assets/colab-badge.svg\" alt=\"Open In Colab\"/></a>"
      ]
    },
    {
      "cell_type": "code",
      "execution_count": 1,
      "metadata": {
        "colab": {
          "base_uri": "https://localhost:8080/"
        },
        "id": "jLzyQJvX4ctb",
        "outputId": "346c1a35-e712-445a-81a7-5396e85bec97"
      },
      "outputs": [
        {
          "output_type": "stream",
          "name": "stdout",
          "text": [
            "Dimensions: 2\n",
            "Shape: (2, 4)\n",
            "[5 6 7 8]\n"
          ]
        }
      ],
      "source": [
        "import numpy as np\n",
        "# Creating a 2D NumPy array from a list of lists\n",
        "data2 = [[1, 2, 3, 4], [5, 6, 7, 8]]\n",
        "arr2 = np.array(data2)\n",
        "print(\"Dimensions:\", arr2.ndim) # Output: 2\n",
        "print(\"Shape:\", arr2.shape) # Output: (2,4)\n",
        "print(arr2[1])"
      ]
    },
    {
      "cell_type": "code",
      "source": [
        "import numpy as np\n",
        "# Creating a 1D NumPy array\n",
        "data1 = [6, 7, 5, 8, 0, 1] #it is a list\n",
        "arr1 = np.array(data1) # list --> converts to ndarray\n",
        "print(arr1) # [6 7 5 8 0 1]\n",
        "print(\"Type:\",type(arr1)) # Type: <class 'numpy.ndarray'>\n",
        "print(\"Shape:\", arr1.shape) # Shape: (6,)\n",
        "print(\"Size:\",arr1.size) # Size: 6\n",
        "print(\"Dimensions:\", arr1.ndim) # Dimensions: 1\n",
        "print(\"Data type:\", arr1.dtype) # Data type: int64\n",
        "print(\"Item_Size:\",arr1.itemsize) # size in bytes of each element of the array.\n",
        "print(\"total_memory: =\", arr1.size * arr1.itemsize,\"bytes\")\n",
        "array_1 = [1,2,3,\"RV\"]\n",
        "array_1 #print(array_1.dtype)"
      ],
      "metadata": {
        "colab": {
          "base_uri": "https://localhost:8080/"
        },
        "id": "MIa8Ogn79wOP",
        "outputId": "223f2644-882b-4584-f68e-60a4cd74e650"
      },
      "execution_count": 18,
      "outputs": [
        {
          "output_type": "stream",
          "name": "stdout",
          "text": [
            "[6 7 5 8 0 1]\n",
            "Type: <class 'numpy.ndarray'>\n",
            "Shape: (6,)\n",
            "Size: 6\n",
            "Dimensions: 1\n",
            "Data type: int64\n",
            "Item_Size: 8\n",
            "total_memory: = 48 bytes\n"
          ]
        },
        {
          "output_type": "execute_result",
          "data": {
            "text/plain": [
              "[1, 2, 3, 'RV']"
            ]
          },
          "metadata": {},
          "execution_count": 18
        }
      ]
    },
    {
      "cell_type": "code",
      "source": [
        "import numpy as np\n",
        "# 1D array\n",
        "d1 = np.array([1, 2, 3, 4, 5, 6, 7, 8, 9, 10, 11, 12])\n",
        "# 2D array\n",
        "d2 =np.array([[1, 2, 3],\n",
        "              [4, 5, 6],\n",
        "              [7, 8, 9],\n",
        "              [10,11,12]])\n",
        "# 3D array\n",
        "d3 = np.array([[[1, 2, 3],[4, 5, 6]],\n",
        "               [[7, 8, 9],[10,11,12]]])\n",
        "print(\"Shape of 1D array:\", d1.shape)\n",
        "print(\"Shape of 2D array:\", d2.shape)\n",
        "print(\"Shape of 3D array:\", d3.shape)"
      ],
      "metadata": {
        "colab": {
          "base_uri": "https://localhost:8080/"
        },
        "id": "SCe4TcMi45gj",
        "outputId": "647a86dd-5f6e-4bf0-d588-e3ca58246131"
      },
      "execution_count": 2,
      "outputs": [
        {
          "output_type": "stream",
          "name": "stdout",
          "text": [
            "Shape of 1D array: (12,)\n",
            "Shape of 2D array: (4, 3)\n",
            "Shape of 3D array: (2, 2, 3)\n"
          ]
        }
      ]
    },
    {
      "cell_type": "code",
      "source": [],
      "metadata": {
        "id": "2zXRlonYA7vp"
      },
      "execution_count": null,
      "outputs": []
    },
    {
      "cell_type": "code",
      "source": [
        "import numpy as np\n",
        "array1 = np.array([[0, 1, 2], [2, 3, 4]],dtype = float) # Manual creation\n",
        "array2 = np.array( [ [1,2], [3,4] ], dtype= int) # Specifying data type\n",
        "array3 = np.zeros((2, 3), dtype = int) # Array of zeros\n",
        "array4 = np.ones((2, 3) , dtype = int) # Array of ones\n",
        "array5 = np.eye(3, dtype = int) # Identity matrix\n",
        "array6 = np.arange(0, 10, 2, dtype = int) # Sequence from 0 to 8 with step 2\n",
        "array7 = np.linspace(0, 10, 5 , dtype = int) # create 5 elements in between 0 to 10 with equal space\n",
        "array8 = np.random.randint(0, 10, (3, 3)) # Random integers in a 3x3 array\n",
        "print(array1, \"\\n\")\n",
        "print(array2, \"\\n\")\n",
        "print(array3, \"\\n\")\n",
        "print(array4, \"\\n\")\n",
        "print(array5, \"\\n\")\n",
        "print(array6, \"\\n\")\n",
        "print(array7, \"\\n\")\n",
        "print(array8, \"\\n\")"
      ],
      "metadata": {
        "colab": {
          "base_uri": "https://localhost:8080/"
        },
        "id": "SvX-eh0i5POi",
        "outputId": "0a0829d5-6c38-4dd9-b52b-79edc109caa0"
      },
      "execution_count": 12,
      "outputs": [
        {
          "output_type": "stream",
          "name": "stdout",
          "text": [
            "[[0. 1. 2.]\n",
            " [2. 3. 4.]] \n",
            "\n",
            "[[1 2]\n",
            " [3 4]] \n",
            "\n",
            "[[0 0 0]\n",
            " [0 0 0]] \n",
            "\n",
            "[[1 1 1]\n",
            " [1 1 1]] \n",
            "\n",
            "[[1 0 0]\n",
            " [0 1 0]\n",
            " [0 0 1]] \n",
            "\n",
            "[0 2 4 6 8] \n",
            "\n",
            "[ 0  2  5  7 10] \n",
            "\n",
            "[[7 5 8]\n",
            " [7 9 7]\n",
            " [9 6 7]] \n",
            "\n"
          ]
        }
      ]
    },
    {
      "cell_type": "code",
      "source": [
        "import numpy as np\n",
        "\n",
        "arr = np.arange(10)\n",
        "\n",
        "print(\"Original array:\", arr)                     # Original array: [0 1 2 3 4 5 6 7 8 9]\n",
        "print(\"Element at index 5:\", arr[5])              # Element at index 5: 5\n",
        "print(\"Slice from index 5 to 8:\", arr[5:8])       # Slice from index 5 to 8: [5 6 7]\n",
        "\n",
        "arr[5:8] = 3\n",
        "\n",
        "print(\"Modified array:\", arr)                     # Modified array: [ 0 1 2 3 4 3 3 3 8 9]\n",
        "# Try 2-D\n",
        "arr_2d = np.array([[1,2,3],[4,5,6],[7,8,9]])\n",
        "\n",
        "print(\"Original array:\", arr_2d)\n",
        "print(\"Original array:\", arr_2d.ndim)\n",
        "print(\"Element at index 0:\", arr_2d[0])\n",
        "print(\"Slice from index at 0 form 1 to 3:\", arr_2d[0,1:3])\n",
        "arr_2d[1, 1] = 12\n",
        "print(\"Modified array:\", arr_2d)"
      ],
      "metadata": {
        "id": "j2LKrVQk5Rjr",
        "colab": {
          "base_uri": "https://localhost:8080/"
        },
        "outputId": "89b8557a-c08e-4eb0-bf4b-d9043edffb4f"
      },
      "execution_count": 22,
      "outputs": [
        {
          "output_type": "stream",
          "name": "stdout",
          "text": [
            "Original array: [0 1 2 3 4 5 6 7 8 9]\n",
            "Element at index 5: 5\n",
            "Slice from index 5 to 8: [5 6 7]\n",
            "Modified array: [0 1 2 3 4 3 3 3 8 9]\n",
            "Original array: [[1 2 3]\n",
            " [4 5 6]\n",
            " [7 8 9]]\n",
            "Original array: 2\n",
            "Element at index 0: [1 2 3]\n",
            "Slice from index at 0 form 1 to 3: [2 3]\n",
            "Modified array: [[ 1  2  3]\n",
            " [ 4 12  6]\n",
            " [ 7  8  9]]\n"
          ]
        }
      ]
    },
    {
      "cell_type": "code",
      "source": [
        "# Create a 2D array\n",
        "arr = np.array([[1, 2, 3, 4],\n",
        "[5, 6, 7, 8],\n",
        "[9, 10, 11, 12]])\n",
        "print(\"Original Array:\\n\", arr)\n",
        "# Slice the first row\n",
        "row_slice = arr[0, :] # Equivalent to arr[0]\n",
        "# Slice the second column\n",
        "col_slice = arr[:, 1]\n",
        "# Slice a submatrix (rows 1-2, columns 2-3)\n",
        "submatrix = arr[1:3, 2:4]\n",
        "print(\"\\nFirst Row:\", row_slice)\n",
        "print(\"Second Column:\", col_slice)\n",
        "print(\"Submatrix:\\n\", submatrix)"
      ],
      "metadata": {
        "colab": {
          "base_uri": "https://localhost:8080/"
        },
        "id": "5KDeZq0J5SAJ",
        "outputId": "c2eb6756-955a-4aa4-c424-58a391bdaa8b"
      },
      "execution_count": 16,
      "outputs": [
        {
          "output_type": "stream",
          "name": "stdout",
          "text": [
            "Original Array:\n",
            " [[ 1  2  3  4]\n",
            " [ 5  6  7  8]\n",
            " [ 9 10 11 12]]\n",
            "\n",
            "First Row: [1 2 3 4]\n",
            "Second Column: [ 2  6 10]\n",
            "Submatrix:\n",
            " [[ 7  8]\n",
            " [11 12]]\n"
          ]
        }
      ]
    },
    {
      "cell_type": "code",
      "source": [
        "import numpy as np\n",
        "arr_3 = np.array([[1., 2., 3.], [4., 5., 6.], [7., 8., 9.], [1., 3., 5.]])\n",
        "arr_tranp = arr_3.transpose()\n",
        "print(\"Original matrix:\\n\", arr_3 )\n",
        "print(\"Transpose matrix:\\n\", arr_tranp)\n",
        "# Try:\n",
        "arr_3.shape\n",
        "arr_3.T\n",
        "arr_3.T.shape"
      ],
      "metadata": {
        "colab": {
          "base_uri": "https://localhost:8080/"
        },
        "id": "aOOgbUVD-CG3",
        "outputId": "b400482e-01ca-451c-9040-5aa5d827b552"
      },
      "execution_count": 21,
      "outputs": [
        {
          "output_type": "stream",
          "name": "stdout",
          "text": [
            "Original matrix:\n",
            " [[1. 2. 3.]\n",
            " [4. 5. 6.]\n",
            " [7. 8. 9.]\n",
            " [1. 3. 5.]]\n",
            "Transpose matrix:\n",
            " [[1. 4. 7. 1.]\n",
            " [2. 5. 8. 3.]\n",
            " [3. 6. 9. 5.]]\n"
          ]
        },
        {
          "output_type": "execute_result",
          "data": {
            "text/plain": [
              "(3, 4)"
            ]
          },
          "metadata": {},
          "execution_count": 21
        }
      ]
    },
    {
      "cell_type": "code",
      "source": [
        "arr = np.array([5, 2, 8, 1, 3])\n",
        "arr2D = np.array([[3, 2, 1], [6, 5, 4]])\n",
        "# Sorting in ascending order (default)\n",
        "\n",
        "sorted_arr = np.sort(arr)\n",
        "\n",
        "print(sorted_arr) # Output: [1 2 3 5 8]\n",
        "# Sorting in descending order\n",
        "\n",
        "sorted_desc = np.sort(arr)[::-1]\n",
        "print(sorted_desc) # Output: [8 5 3 2 1]\n",
        "\n",
        "# Sort each row\n",
        "sorted_rows = np.sort(arr2D, axis=0) # [[3 2 1]\n",
        "print(sorted_rows) # [6 5 4]]\n",
        "# Sort each row # Output:\n",
        "\n",
        "sorted_cols = np.sort(arr2D, axis=1) # [[1 2 3]\n",
        "print(sorted_cols) # [4 5 6]]\n"
      ],
      "metadata": {
        "colab": {
          "base_uri": "https://localhost:8080/"
        },
        "id": "v1kR0SYWC0lp",
        "outputId": "ac894092-0c2e-448f-d081-c5fd5c5ced10"
      },
      "execution_count": 24,
      "outputs": [
        {
          "output_type": "stream",
          "name": "stdout",
          "text": [
            "[1 2 3 5 8]\n",
            "[8 5 3 2 1]\n",
            "[[3 2 1]\n",
            " [6 5 4]]\n",
            "[[1 2 3]\n",
            " [4 5 6]]\n"
          ]
        }
      ]
    }
  ]
}